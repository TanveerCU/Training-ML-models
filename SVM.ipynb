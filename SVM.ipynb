{
  "nbformat": 4,
  "nbformat_minor": 0,
  "metadata": {
    "colab": {
      "name": "SVM.ipynb",
      "provenance": [],
      "collapsed_sections": [],
      "authorship_tag": "ABX9TyOHin0180lz37a1yKc/wDWy",
      "include_colab_link": true
    },
    "kernelspec": {
      "name": "python3",
      "display_name": "Python 3"
    },
    "accelerator": "GPU"
  },
  "cells": [
    {
      "cell_type": "markdown",
      "metadata": {
        "id": "view-in-github",
        "colab_type": "text"
      },
      "source": [
        "<a href=\"https://colab.research.google.com/github/TanveerCU/Training-ML-models/blob/main/SVM.ipynb\" target=\"_parent\"><img src=\"https://colab.research.google.com/assets/colab-badge.svg\" alt=\"Open In Colab\"/></a>"
      ]
    },
    {
      "cell_type": "code",
      "metadata": {
        "id": "KUZp1-ipZKnq"
      },
      "source": [
        "!git clone https://github.com/TanveerCU/Training-Data.git\n",
        "import os\n",
        "import cv2 as cv\n",
        "!apt install unzip\n",
        "!unzip \"./Training-Data/data.zip\"\n",
        "!unzip \"./Training-Data/alphabet.zip\""
      ],
      "execution_count": null,
      "outputs": []
    },
    {
      "cell_type": "markdown",
      "metadata": {
        "id": "cObUM22vJQEn"
      },
      "source": [
        "# **DIGITS ONLY**"
      ]
    },
    {
      "cell_type": "code",
      "metadata": {
        "id": "pTZnaRUnzUEl",
        "outputId": "56cc02b5-79da-46fb-a3c1-88cd60f1d281",
        "colab": {
          "base_uri": "https://localhost:8080/",
          "height": 187
        }
      },
      "source": [
        "train_images=[]\n",
        "train_labels=[]\n",
        "List = os.listdir(\"./data/zero\")\n",
        "i=1\n",
        "\n",
        "for file in List:\n",
        "  file=\"./data/zero/\"+file\n",
        "  pic=cv.imread(file,0)\n",
        "  train_images.append(pic)\n",
        "  train_labels.append(0)\n",
        "  i+=1\n",
        "print(i)\n",
        "\n",
        "\n",
        "List = os.listdir(\"./data/one\")\n",
        "i=1\n",
        "for file in List:\n",
        "  file=\"./data/one/\"+file\n",
        "  pic=cv.imread(file,0)\n",
        "  train_images.append(pic)\n",
        "  train_labels.append(1)\n",
        "  i+=1\n",
        "print(i)\n",
        "\n",
        "\n",
        "\n",
        "List = os.listdir(\"./data/two\")\n",
        "i=1\n",
        "\n",
        "for file in List:\n",
        "  file=\"./data/two/\"+file\n",
        "  pic=cv.imread(file,0)\n",
        "  train_images.append(pic)\n",
        "  train_labels.append(2)\n",
        "  i+=1\n",
        "print(i)\n",
        "\n",
        "\n",
        "\n",
        "List = os.listdir(\"./data/three\")\n",
        "i=1\n",
        "\n",
        "for file in List:\n",
        "  file=\"./data/three/\"+file\n",
        "  pic=cv.imread(file,0)\n",
        "  train_images.append(pic)\n",
        "  train_labels.append(3)\n",
        "  i+=1\n",
        "\n",
        "print(i)\n",
        "len(train_images)\n",
        "\n",
        "List = os.listdir(\"./data/four\")\n",
        "i=1\n",
        "\n",
        "for file in List:\n",
        "  file=\"./data/four/\"+file\n",
        "  pic=cv.imread(file,0)\n",
        "  train_images.append(pic)\n",
        "  train_labels.append(4)\n",
        "\n",
        "  i+=1\n",
        "\n",
        "print(i)\n",
        "\n",
        "\n",
        "List = os.listdir(\"./data/five\")\n",
        "i=1\n",
        "\n",
        "for file in List:\n",
        "  file=\"./data/five/\"+file\n",
        "  pic=cv.imread(file,0)\n",
        "  train_images.append(pic)\n",
        "  train_labels.append(5)\n",
        "\n",
        "  i+=1\n",
        "\n",
        "print(i)\n",
        "\n",
        "\n",
        "\n",
        "List = os.listdir(\"./data/six\")\n",
        "i=1\n",
        "#print(len(List))\n",
        "for file in List:\n",
        "  file=\"./data/six/\"+file\n",
        "  pic=cv.imread(file,0)\n",
        "  train_images.append(pic)\n",
        "  train_labels.append(6)\n",
        "#  print(\"one: \"+(str)(i))\n",
        "  i+=1\n",
        "#print(len(List))\n",
        "#print(len(train_images))\n",
        "print(i)\n",
        "\n",
        "\n",
        "\n",
        "List = os.listdir(\"./data/seven\")\n",
        "i=1\n",
        "#print(len(List))\n",
        "for file in List:\n",
        "  file=\"./data/seven/\"+file\n",
        "  pic=cv.imread(file,0)\n",
        "  train_images.append(pic)\n",
        "  train_labels.append(7)\n",
        "#  print(\"one: \"+(str)(i))\n",
        "  i+=1\n",
        "#print(len(List))\n",
        "#print(len(train_images))\n",
        "print(i)\n",
        "\n",
        "\n",
        "\n",
        "List = os.listdir(\"./data/eight\")\n",
        "i=1\n",
        "#print(len(List))\n",
        "for file in List:\n",
        "  file=\"./data/eight/\"+file\n",
        "  pic=cv.imread(file,0)\n",
        "  train_images.append(pic)\n",
        "  train_labels.append(8)\n",
        "#  print(\"one: \"+(str)(i))\n",
        "  i+=1\n",
        "#print(len(List))\n",
        "#print(len(train_images))\n",
        "print(i)\n",
        "\n",
        "\n",
        "\n",
        "List = os.listdir(\"./data/nine\")\n",
        "i=1\n",
        "#print(len(List))\n",
        "for file in List:\n",
        "  file=\"./data/nine/\"+file\n",
        "  pic=cv.imread(file,0)\n",
        "  train_images.append(pic)\n",
        "  train_labels.append(9)\n",
        "#  print(\"one: \"+(str)(i))\n",
        "  i+=1\n",
        "#print(len(List))\n",
        "#print(len(train_images))\n",
        "print(i)"
      ],
      "execution_count": null,
      "outputs": [
        {
          "output_type": "stream",
          "text": [
            "4957\n",
            "6454\n",
            "6559\n",
            "5977\n",
            "4542\n",
            "3382\n",
            "3757\n",
            "4129\n",
            "3895\n",
            "4180\n"
          ],
          "name": "stdout"
        }
      ]
    },
    {
      "cell_type": "code",
      "metadata": {
        "id": "UGQcZ3eTwbtT",
        "outputId": "66113aea-518b-46c2-941d-1e2bfa1fbc8c",
        "colab": {
          "base_uri": "https://localhost:8080/",
          "height": 34
        }
      },
      "source": [
        "import numpy as np\n",
        "print(len(train_images))\n",
        "train_images=np.array(train_images)\n",
        "train_labels=np.array(train_labels)\n",
        "train_images = train_images / 255.0"
      ],
      "execution_count": null,
      "outputs": [
        {
          "output_type": "stream",
          "text": [
            "47822\n"
          ],
          "name": "stdout"
        }
      ]
    },
    {
      "cell_type": "code",
      "metadata": {
        "id": "JwsIuFKxzjSD",
        "outputId": "8c7a842b-bd31-4434-d0c3-31884e0274a4",
        "colab": {
          "base_uri": "https://localhost:8080/",
          "height": 51
        }
      },
      "source": [
        "print(train_images.shape)\n",
        "print(train_labels.shape)"
      ],
      "execution_count": null,
      "outputs": [
        {
          "output_type": "stream",
          "text": [
            "(47822, 32, 32)\n",
            "(47822,)\n"
          ],
          "name": "stdout"
        }
      ]
    },
    {
      "cell_type": "code",
      "metadata": {
        "id": "0UDxQ0uGzlcK"
      },
      "source": [
        "from sklearn.model_selection import train_test_split\n",
        "x_train, x_test, y_train, y_test = train_test_split(train_images, train_labels, test_size=0.15, random_state=42)\n",
        "number_of_train = x_train.shape[0]\n",
        "number_of_test = x_test.shape[0]"
      ],
      "execution_count": null,
      "outputs": []
    },
    {
      "cell_type": "code",
      "metadata": {
        "id": "62P-uUnnzngr",
        "outputId": "2be5c1b3-5504-421e-a42c-3433faa4af7c",
        "colab": {
          "base_uri": "https://localhost:8080/",
          "height": 51
        }
      },
      "source": [
        "print(number_of_train)\n",
        "print(number_of_test)"
      ],
      "execution_count": null,
      "outputs": [
        {
          "output_type": "stream",
          "text": [
            "40648\n",
            "7174\n"
          ],
          "name": "stdout"
        }
      ]
    },
    {
      "cell_type": "code",
      "metadata": {
        "id": "WYbyHkZmzpom",
        "outputId": "7b896f03-4377-40c5-f955-243ae9fd28f5",
        "colab": {
          "base_uri": "https://localhost:8080/",
          "height": 51
        }
      },
      "source": [
        "x_train_flatten = x_train.reshape(number_of_train,x_train.shape[1]*x_train.shape[2])\n",
        "x_test_flatten = x_test .reshape(number_of_test,x_test.shape[1]*x_test.shape[2])\n",
        "print(\"X train flatten\",x_train_flatten.shape)\n",
        "print(\"X test flatten\",x_test_flatten.shape)"
      ],
      "execution_count": null,
      "outputs": [
        {
          "output_type": "stream",
          "text": [
            "X train flatten (40648, 1024)\n",
            "X test flatten (7174, 1024)\n"
          ],
          "name": "stdout"
        }
      ]
    },
    {
      "cell_type": "code",
      "metadata": {
        "id": "FF5dE8li4eqS"
      },
      "source": [
        "from sklearn.svm import SVC\n",
        "clf=SVC(gamma=0.001,C=100)\n",
        "#clf=SVC(C=1,kernel=\"linear\",max_iter=5000)"
      ],
      "execution_count": null,
      "outputs": []
    },
    {
      "cell_type": "code",
      "metadata": {
        "id": "tQfw7zygzur1",
        "outputId": "f763e185-ff25-49af-a740-d6e6b2d1cb4c",
        "colab": {
          "base_uri": "https://localhost:8080/",
          "height": 85
        }
      },
      "source": [
        "clf.fit(x_train_flatten, y_train)"
      ],
      "execution_count": null,
      "outputs": [
        {
          "output_type": "execute_result",
          "data": {
            "text/plain": [
              "SVC(C=100, break_ties=False, cache_size=200, class_weight=None, coef0=0.0,\n",
              "    decision_function_shape='ovr', degree=3, gamma=0.001, kernel='rbf',\n",
              "    max_iter=-1, probability=False, random_state=None, shrinking=True,\n",
              "    tol=0.001, verbose=False)"
            ]
          },
          "metadata": {
            "tags": []
          },
          "execution_count": 12
        }
      ]
    },
    {
      "cell_type": "code",
      "metadata": {
        "id": "h8kdvdgaz0A6"
      },
      "source": [
        "predictions = clf.predict(x_test_flatten)"
      ],
      "execution_count": null,
      "outputs": []
    },
    {
      "cell_type": "code",
      "metadata": {
        "id": "nwSgj0W-z5FT",
        "outputId": "011a6106-b16e-4b49-949f-895b63e807fe",
        "colab": {
          "base_uri": "https://localhost:8080/",
          "height": 34
        }
      },
      "source": [
        "score = clf.score(x_test_flatten, y_test)\n",
        "print(score)"
      ],
      "execution_count": null,
      "outputs": [
        {
          "output_type": "stream",
          "text": [
            "0.9577641483133538\n"
          ],
          "name": "stdout"
        }
      ]
    },
    {
      "cell_type": "code",
      "metadata": {
        "id": "RKUQZcATz-RF"
      },
      "source": [
        "import matplotlib.pyplot as plt\n",
        "import seaborn as sns\n",
        "from sklearn import metrics"
      ],
      "execution_count": null,
      "outputs": []
    },
    {
      "cell_type": "code",
      "metadata": {
        "id": "b0kjaXH50Ax1",
        "outputId": "c1375cdd-a0e8-432c-dcb4-88e1d651c4bb",
        "colab": {
          "base_uri": "https://localhost:8080/",
          "height": 187
        }
      },
      "source": [
        "cm = metrics.confusion_matrix(y_test, predictions)\n",
        "print(cm)"
      ],
      "execution_count": null,
      "outputs": [
        {
          "output_type": "stream",
          "text": [
            "[[706  14   4   5   5   1   2   1   0   0]\n",
            " [  5 970   6   2   1   1   0   0   0   5]\n",
            " [  2   1 961   0   1   1   4   0   0   6]\n",
            " [ 20  11   3 862   2   6   0   6   2   1]\n",
            " [  4   1   2   3 691   3   4   3   3   1]\n",
            " [ 11   3   4  12   4 494   2   1   0   0]\n",
            " [  3   1  12   4   1   2 500   3   3   3]\n",
            " [  3   1   2   1   5   1   0 597   1   0]\n",
            " [  1   2   3   1   4   3  14   2 522   2]\n",
            " [  5  14   8   4   1   2   3   2   7 568]]\n"
          ],
          "name": "stdout"
        }
      ]
    },
    {
      "cell_type": "code",
      "metadata": {
        "id": "p72iMRk40DQ1",
        "outputId": "365a4e78-07ef-4e81-fcef-51b12ec9fb03",
        "colab": {
          "base_uri": "https://localhost:8080/",
          "height": 526
        }
      },
      "source": [
        "plt.figure(figsize=(9,9))\n",
        "sns.heatmap(cm, annot=True, fmt=\".3f\", linewidths=.5, square = True, cmap = 'Blues_r');\n",
        "plt.ylabel('Actual label');\n",
        "plt.xlabel('Predicted label');\n",
        "all_sample_title = 'Accuracy Score: {0}'.format(score)\n",
        "plt.title(all_sample_title, size = 15);"
      ],
      "execution_count": null,
      "outputs": [
        {
          "output_type": "display_data",
          "data": {
            "image/png": "[encoded data removed]",
            "text/plain": [
              "<Figure size 648x648 with 2 Axes>"
            ]
          },
          "metadata": {
            "tags": []
          }
        }
      ]
    },
    {
      "cell_type": "markdown",
      "metadata": {
        "id": "X9ud1zTzJL6c"
      },
      "source": [
        "# CHAR ONLY "
      ]
    },
    {
      "cell_type": "code",
      "metadata": {
        "id": "fbc0dc9OJvft"
      },
      "source": [
        "import os\n",
        "import cv2 as cv"
      ],
      "execution_count": null,
      "outputs": []
    },
    {
      "cell_type": "code",
      "metadata": {
        "id": "f8C8LBpaJ1Bv",
        "outputId": "246f779b-d181-44d3-b974-6abde230f721",
        "colab": {
          "base_uri": "https://localhost:8080/",
          "height": 187
        }
      },
      "source": [
        "train_images=[]\n",
        "train_labels=[]\n",
        "List = os.listdir(\"./alphabet/ko\")\n",
        "i=1\n",
        "\n",
        "for file in List:\n",
        "  file=\"./alphabet/ko/\"+file\n",
        "  pic=cv.imread(file,0)\n",
        "  train_images.append(pic)\n",
        "  train_labels.append(10)\n",
        "  i+=1\n",
        "print(i)\n",
        "\n",
        "\n",
        "List = os.listdir(\"./alphabet/kho\")\n",
        "i=1\n",
        "for file in List:\n",
        "  file=\"./alphabet/kho/\"+file\n",
        "  pic=cv.imread(file,0)\n",
        "  train_images.append(pic)\n",
        "  train_labels.append(11)\n",
        "  i+=1\n",
        "print(i)\n",
        "\n",
        "\n",
        "\n",
        "List = os.listdir(\"./alphabet/go\")\n",
        "i=1\n",
        "\n",
        "for file in List:\n",
        "  file=\"./alphabet/go/\"+file\n",
        "  pic=cv.imread(file,0)\n",
        "  train_images.append(pic)\n",
        "  train_labels.append(12)\n",
        "  i+=1\n",
        "print(i)\n",
        "\n",
        "\n",
        "\n",
        "List = os.listdir(\"./alphabet/gho\")\n",
        "i=1\n",
        "\n",
        "for file in List:\n",
        "  file=\"./alphabet/gho/\"+file\n",
        "  pic=cv.imread(file,0)\n",
        "  train_images.append(pic)\n",
        "  train_labels.append(13)\n",
        "  i+=1\n",
        "\n",
        "print(i)\n",
        "len(train_images)\n",
        "\n",
        "List = os.listdir(\"./alphabet/cho\")\n",
        "i=1\n",
        "\n",
        "for file in List:\n",
        "  file=\"./alphabet/cho/\"+file\n",
        "  pic=cv.imread(file,0)\n",
        "  train_images.append(pic)\n",
        "  train_labels.append(14)\n",
        "\n",
        "  i+=1\n",
        "\n",
        "print(i)\n",
        "\n",
        "\n",
        "List = os.listdir(\"./alphabet/jo\")\n",
        "i=1\n",
        "\n",
        "for file in List:\n",
        "  file=\"./alphabet/jo/\"+file\n",
        "  pic=cv.imread(file,0)\n",
        "  train_images.append(pic)\n",
        "  train_labels.append(15)\n",
        "\n",
        "  i+=1\n",
        "\n",
        "print(i)\n",
        "\n",
        "\n",
        "\n",
        "List = os.listdir(\"./alphabet/dho\")\n",
        "i=1\n",
        "#print(len(List))\n",
        "for file in List:\n",
        "  file=\"./alphabet/dho/\"+file\n",
        "  pic=cv.imread(file,0)\n",
        "  train_images.append(pic)\n",
        "  train_labels.append(16)\n",
        "#  print(\"one: \"+(str)(i))\n",
        "  i+=1\n",
        "#print(len(List))\n",
        "#print(len(train_images))\n",
        "print(i)\n",
        "\n",
        "\n",
        "\n",
        "List = os.listdir(\"./alphabet/lo\")\n",
        "i=1\n",
        "#print(len(List))\n",
        "for file in List:\n",
        "  file=\"./alphabet/lo/\"+file\n",
        "  pic=cv.imread(file,0)\n",
        "  train_images.append(pic)\n",
        "  train_labels.append(17)\n",
        "#  print(\"one: \"+(str)(i))\n",
        "  i+=1\n",
        "#print(len(List))\n",
        "#print(len(train_images))\n",
        "print(i)\n",
        "\n",
        "\n",
        "\n",
        "List = os.listdir(\"./alphabet/mo\")\n",
        "i=1\n",
        "#print(len(List))\n",
        "for file in List:\n",
        "  file=\"./alphabet/mo/\"+file\n",
        "  pic=cv.imread(file,0)\n",
        "  train_images.append(pic)\n",
        "  train_labels.append(18)\n",
        "#  print(\"one: \"+(str)(i))\n",
        "  i+=1\n",
        "#print(len(List))\n",
        "#print(len(train_images))\n",
        "print(i)\n",
        "\n",
        "\n",
        "\n",
        "List = os.listdir(\"./alphabet/vo\")\n",
        "i=1\n",
        "#print(len(List))\n",
        "for file in List:\n",
        "  file=\"./alphabet/vo/\"+file\n",
        "  pic=cv.imread(file,0)\n",
        "  train_images.append(pic)\n",
        "  train_labels.append(19)\n",
        "#  print(\"one: \"+(str)(i))\n",
        "  i+=1\n",
        "#print(len(List))\n",
        "#print(len(train_images))\n",
        "print(i)"
      ],
      "execution_count": null,
      "outputs": [
        {
          "output_type": "stream",
          "text": [
            "22433\n",
            "1959\n",
            "23460\n",
            "1953\n",
            "1973\n",
            "1967\n",
            "22427\n",
            "1956\n",
            "22422\n",
            "1966\n"
          ],
          "name": "stdout"
        }
      ]
    },
    {
      "cell_type": "code",
      "metadata": {
        "id": "4KnZhqmiJ1Gw",
        "outputId": "1f481a78-ff1d-401a-b826-86a8045eb13d",
        "colab": {
          "base_uri": "https://localhost:8080/",
          "height": 34
        }
      },
      "source": [
        "import numpy as np\n",
        "print(len(train_images))\n",
        "train_images=np.array(train_images)\n",
        "train_labels=np.array(train_labels)\n",
        "train_images = train_images / 255.0"
      ],
      "execution_count": null,
      "outputs": [
        {
          "output_type": "stream",
          "text": [
            "102506\n"
          ],
          "name": "stdout"
        }
      ]
    },
    {
      "cell_type": "code",
      "metadata": {
        "id": "KhRWTIyeJ85W",
        "outputId": "3f6feba1-56b0-46a2-e516-3e93b8637aaf",
        "colab": {
          "base_uri": "https://localhost:8080/",
          "height": 51
        }
      },
      "source": [
        "print(train_images.shape)\n",
        "print(train_labels.shape)"
      ],
      "execution_count": null,
      "outputs": [
        {
          "output_type": "stream",
          "text": [
            "(102506, 32, 32)\n",
            "(102506,)\n"
          ],
          "name": "stdout"
        }
      ]
    },
    {
      "cell_type": "code",
      "metadata": {
        "id": "hVVJsiK8J8-W"
      },
      "source": [
        "from sklearn.model_selection import train_test_split\n",
        "x_train, x_test, y_train, y_test = train_test_split(train_images, train_labels, test_size=0.15, random_state=42)\n",
        "number_of_train = x_train.shape[0]\n",
        "number_of_test = x_test.shape[0]"
      ],
      "execution_count": null,
      "outputs": []
    },
    {
      "cell_type": "code",
      "metadata": {
        "id": "Zr9FPgAEJ834",
        "outputId": "d05f84c8-6b54-4c96-a2ec-13013c60221a",
        "colab": {
          "base_uri": "https://localhost:8080/",
          "height": 51
        }
      },
      "source": [
        "print(number_of_train)\n",
        "print(number_of_test)"
      ],
      "execution_count": null,
      "outputs": [
        {
          "output_type": "stream",
          "text": [
            "87130\n",
            "15376\n"
          ],
          "name": "stdout"
        }
      ]
    },
    {
      "cell_type": "code",
      "metadata": {
        "id": "E2vo-FM5J1Rb",
        "outputId": "59a11797-3c92-474d-c501-c3e4dac8ad71",
        "colab": {
          "base_uri": "https://localhost:8080/",
          "height": 51
        }
      },
      "source": [
        "x_train_flatten = x_train.reshape(number_of_train,x_train.shape[1]*x_train.shape[2])\n",
        "x_test_flatten = x_test .reshape(number_of_test,x_test.shape[1]*x_test.shape[2])\n",
        "print(\"X train flatten\",x_train_flatten.shape)\n",
        "print(\"X test flatten\",x_test_flatten.shape)"
      ],
      "execution_count": null,
      "outputs": [
        {
          "output_type": "stream",
          "text": [
            "X train flatten (87130, 1024)\n",
            "X test flatten (15376, 1024)\n"
          ],
          "name": "stdout"
        }
      ]
    },
    {
      "cell_type": "code",
      "metadata": {
        "id": "8E0B0HsoJ1XM"
      },
      "source": [
        "from sklearn.svm import SVC\n",
        "clf=SVC(gamma=0.001,C=100)"
      ],
      "execution_count": null,
      "outputs": []
    },
    {
      "cell_type": "code",
      "metadata": {
        "id": "TzGIfdUeJ1QS",
        "outputId": "953d71c6-6da5-41e3-d753-09d78cf9b5a4",
        "colab": {
          "base_uri": "https://localhost:8080/",
          "height": 85
        }
      },
      "source": [
        "clf.fit(x_train_flatten, y_train)"
      ],
      "execution_count": null,
      "outputs": [
        {
          "output_type": "execute_result",
          "data": {
            "text/plain": [
              "SVC(C=100, break_ties=False, cache_size=200, class_weight=None, coef0=0.0,\n",
              "    decision_function_shape='ovr', degree=3, gamma=0.001, kernel='rbf',\n",
              "    max_iter=-1, probability=False, random_state=None, shrinking=True,\n",
              "    tol=0.001, verbose=False)"
            ]
          },
          "metadata": {
            "tags": []
          },
          "execution_count": 12
        }
      ]
    },
    {
      "cell_type": "code",
      "metadata": {
        "id": "D6jmFS8zJ1Ag"
      },
      "source": [
        "predictions = clf.predict(x_test_flatten)"
      ],
      "execution_count": null,
      "outputs": []
    },
    {
      "cell_type": "code",
      "metadata": {
        "id": "mBhDY4pnJ06h",
        "outputId": "e6896f2a-e850-491d-cc3b-a6ee48a7ce04",
        "colab": {
          "base_uri": "https://localhost:8080/",
          "height": 34
        }
      },
      "source": [
        "score = clf.score(x_test_flatten, y_test)\n",
        "print(score)"
      ],
      "execution_count": null,
      "outputs": [
        {
          "output_type": "stream",
          "text": [
            "0.9510275754422477\n"
          ],
          "name": "stdout"
        }
      ]
    },
    {
      "cell_type": "code",
      "metadata": {
        "id": "HoBhLY0nKkQV"
      },
      "source": [
        "import matplotlib.pyplot as plt\n",
        "import seaborn as sns\n",
        "from sklearn import metrics"
      ],
      "execution_count": null,
      "outputs": []
    },
    {
      "cell_type": "code",
      "metadata": {
        "id": "mLj_lWrWKkbN",
        "outputId": "aea1dbe6-b1ac-4166-dda9-ce44d95eccaf",
        "colab": {
          "base_uri": "https://localhost:8080/",
          "height": 187
        }
      },
      "source": [
        "cm = metrics.confusion_matrix(y_test, predictions)\n",
        "print(cm)"
      ],
      "execution_count": null,
      "outputs": [
        {
          "output_type": "stream",
          "text": [
            "[[3314    7   12    3    2    9    2    4   10   12]\n",
            " [   1  219    8   20    0    3    0    5   14    2]\n",
            " [   8   17 3509    9    1    4    2   12   13    4]\n",
            " [   5   25   17  187    4    3    3    2   29    6]\n",
            " [   2    1    3    1  237    7   38    3    6    6]\n",
            " [  20    9    8    8    6  222    2    4    7   17]\n",
            " [   2    1   12    6   58    2 3301    0    1    4]\n",
            " [   7    8   10   10    6    4    1  249   13    1]\n",
            " [  14   20   11   42    6    2    3   17 3160    4]\n",
            " [  15    8    5    5    6   16    3    1    3  225]]\n"
          ],
          "name": "stdout"
        }
      ]
    },
    {
      "cell_type": "code",
      "metadata": {
        "id": "ecMyY2VfccBg",
        "outputId": "15088bfa-5d47-45cc-dfb5-bad90682fc4c",
        "colab": {
          "base_uri": "https://localhost:8080/",
          "height": 529
        }
      },
      "source": [
        "import seaborn as sn\n",
        "import pandas as pd\n",
        "import matplotlib.pyplot as plt\n",
        "df_cm = pd.DataFrame(cm, index=[\"ko\", \"kho\", \"go\", \"gho\" , \"cho\", \"jo\" , \"dho\", \"lo\", \"mo\", \"vo\"], columns=[\"ko\", \"kho\", \"go\", \"gho\" , \"cho\", \"jo\" , \"dho\", \"lo\", \"mo\", \"vo\"])\n",
        "plt.figure(figsize=(9,9))\n",
        "sns.heatmap(df_cm, annot=True, fmt=\".3f\", linewidths=.5, square = True, cmap = 'Blues_r');\n",
        "plt.ylabel('Actual label');\n",
        "plt.xlabel('Predicted label');\n",
        "all_sample_title = 'Accuracy Score: {0}'.format(score)\n",
        "plt.title(all_sample_title, size = 15);\n",
        "                     "
      ],
      "execution_count": null,
      "outputs": [
        {
          "output_type": "display_data",
          "data": {
            "image/png": "[encoded data removed]",
            "text/plain": [
              "<Figure size 648x648 with 2 Axes>"
            ]
          },
          "metadata": {
            "tags": []
          }
        }
      ]
    },
    {
      "cell_type": "markdown",
      "metadata": {
        "id": "VIeZNeH-Kzfo"
      },
      "source": [
        "# **BOTH**"
      ]
    },
    {
      "cell_type": "code",
      "metadata": {
        "id": "GICSlKWpKk0p",
        "outputId": "9ea248f5-2314-462f-a869-e358b880e4e0",
        "colab": {
          "base_uri": "https://localhost:8080/",
          "height": 357
        }
      },
      "source": [
        "train_images=[]\n",
        "train_labels=[]\n",
        "List = os.listdir(\"./data/zero\")\n",
        "i=1\n",
        "\n",
        "for file in List:\n",
        "  file=\"./data/zero/\"+file\n",
        "  pic=cv.imread(file,0)\n",
        "  train_images.append(pic)\n",
        "  train_labels.append(0)\n",
        "  i+=1\n",
        "print(i)\n",
        "\n",
        "\n",
        "List = os.listdir(\"./data/one\")\n",
        "i=1\n",
        "for file in List:\n",
        "  file=\"./data/one/\"+file\n",
        "  pic=cv.imread(file,0)\n",
        "  train_images.append(pic)\n",
        "  train_labels.append(1)\n",
        "  i+=1\n",
        "print(i)\n",
        "\n",
        "\n",
        "\n",
        "List = os.listdir(\"./data/two\")\n",
        "i=1\n",
        "\n",
        "for file in List:\n",
        "  file=\"./data/two/\"+file\n",
        "  pic=cv.imread(file,0)\n",
        "  train_images.append(pic)\n",
        "  train_labels.append(2)\n",
        "  i+=1\n",
        "print(i)\n",
        "\n",
        "\n",
        "\n",
        "List = os.listdir(\"./data/three\")\n",
        "i=1\n",
        "\n",
        "for file in List:\n",
        "  file=\"./data/three/\"+file\n",
        "  pic=cv.imread(file,0)\n",
        "  train_images.append(pic)\n",
        "  train_labels.append(3)\n",
        "  i+=1\n",
        "\n",
        "print(i)\n",
        "len(train_images)\n",
        "\n",
        "List = os.listdir(\"./data/four\")\n",
        "i=1\n",
        "\n",
        "for file in List:\n",
        "  file=\"./data/four/\"+file\n",
        "  pic=cv.imread(file,0)\n",
        "  train_images.append(pic)\n",
        "  train_labels.append(4)\n",
        "\n",
        "  i+=1\n",
        "\n",
        "print(i)\n",
        "\n",
        "\n",
        "List = os.listdir(\"./data/five\")\n",
        "i=1\n",
        "\n",
        "for file in List:\n",
        "  file=\"./data/five/\"+file\n",
        "  pic=cv.imread(file,0)\n",
        "  train_images.append(pic)\n",
        "  train_labels.append(5)\n",
        "\n",
        "  i+=1\n",
        "\n",
        "print(i)\n",
        "\n",
        "\n",
        "\n",
        "List = os.listdir(\"./data/six\")\n",
        "i=1\n",
        "#print(len(List))\n",
        "for file in List:\n",
        "  file=\"./data/six/\"+file\n",
        "  pic=cv.imread(file,0)\n",
        "  train_images.append(pic)\n",
        "  train_labels.append(6)\n",
        "#  print(\"one: \"+(str)(i))\n",
        "  i+=1\n",
        "#print(len(List))\n",
        "#print(len(train_images))\n",
        "print(i)\n",
        "\n",
        "\n",
        "\n",
        "List = os.listdir(\"./data/seven\")\n",
        "i=1\n",
        "#print(len(List))\n",
        "for file in List:\n",
        "  file=\"./data/seven/\"+file\n",
        "  pic=cv.imread(file,0)\n",
        "  train_images.append(pic)\n",
        "  train_labels.append(7)\n",
        "#  print(\"one: \"+(str)(i))\n",
        "  i+=1\n",
        "#print(len(List))\n",
        "#print(len(train_images))\n",
        "print(i)\n",
        "\n",
        "\n",
        "\n",
        "List = os.listdir(\"./data/eight\")\n",
        "i=1\n",
        "#print(len(List))\n",
        "for file in List:\n",
        "  file=\"./data/eight/\"+file\n",
        "  pic=cv.imread(file,0)\n",
        "  train_images.append(pic)\n",
        "  train_labels.append(8)\n",
        "#  print(\"one: \"+(str)(i))\n",
        "  i+=1\n",
        "#print(len(List))\n",
        "#print(len(train_images))\n",
        "print(i)\n",
        "\n",
        "\n",
        "\n",
        "List = os.listdir(\"./data/nine\")\n",
        "i=1\n",
        "#print(len(List))\n",
        "for file in List:\n",
        "  file=\"./data/nine/\"+file\n",
        "  pic=cv.imread(file,0)\n",
        "  train_images.append(pic)\n",
        "  train_labels.append(9)\n",
        "#  print(\"one: \"+(str)(i))\n",
        "  i+=1\n",
        "#print(len(List))\n",
        "#print(len(train_images))\n",
        "print(i)\n",
        "\n",
        "\n",
        "List = os.listdir(\"./alphabet/ko\")\n",
        "i=1\n",
        "\n",
        "for file in List:\n",
        "  file=\"./alphabet/ko/\"+file\n",
        "  pic=cv.imread(file,0)\n",
        "  train_images.append(pic)\n",
        "  train_labels.append(10)\n",
        "  i+=1\n",
        "print(i)\n",
        "\n",
        "\n",
        "List = os.listdir(\"./alphabet/kho\")\n",
        "i=1\n",
        "for file in List:\n",
        "  file=\"./alphabet/kho/\"+file\n",
        "  pic=cv.imread(file,0)\n",
        "  train_images.append(pic)\n",
        "  train_labels.append(11)\n",
        "  i+=1\n",
        "print(i)\n",
        "\n",
        "\n",
        "\n",
        "List = os.listdir(\"./alphabet/go\")\n",
        "i=1\n",
        "\n",
        "for file in List:\n",
        "  file=\"./alphabet/go/\"+file\n",
        "  pic=cv.imread(file,0)\n",
        "  train_images.append(pic)\n",
        "  train_labels.append(12)\n",
        "  i+=1\n",
        "print(i)\n",
        "\n",
        "\n",
        "\n",
        "List = os.listdir(\"./alphabet/gho\")\n",
        "i=1\n",
        "\n",
        "for file in List:\n",
        "  file=\"./alphabet/gho/\"+file\n",
        "  pic=cv.imread(file,0)\n",
        "  train_images.append(pic)\n",
        "  train_labels.append(13)\n",
        "  i+=1\n",
        "\n",
        "print(i)\n",
        "len(train_images)\n",
        "\n",
        "List = os.listdir(\"./alphabet/cho\")\n",
        "i=1\n",
        "\n",
        "for file in List:\n",
        "  file=\"./alphabet/cho/\"+file\n",
        "  pic=cv.imread(file,0)\n",
        "  train_images.append(pic)\n",
        "  train_labels.append(14)\n",
        "\n",
        "  i+=1\n",
        "\n",
        "print(i)\n",
        "\n",
        "\n",
        "List = os.listdir(\"./alphabet/jo\")\n",
        "i=1\n",
        "\n",
        "for file in List:\n",
        "  file=\"./alphabet/jo/\"+file\n",
        "  pic=cv.imread(file,0)\n",
        "  train_images.append(pic)\n",
        "  train_labels.append(15)\n",
        "\n",
        "  i+=1\n",
        "\n",
        "print(i)\n",
        "\n",
        "\n",
        "\n",
        "List = os.listdir(\"./alphabet/dho\")\n",
        "i=1\n",
        "#print(len(List))\n",
        "for file in List:\n",
        "  file=\"./alphabet/dho/\"+file\n",
        "  pic=cv.imread(file,0)\n",
        "  train_images.append(pic)\n",
        "  train_labels.append(16)\n",
        "#  print(\"one: \"+(str)(i))\n",
        "  i+=1\n",
        "#print(len(List))\n",
        "#print(len(train_images))\n",
        "print(i)\n",
        "\n",
        "\n",
        "\n",
        "List = os.listdir(\"./alphabet/lo\")\n",
        "i=1\n",
        "#print(len(List))\n",
        "for file in List:\n",
        "  file=\"./alphabet/lo/\"+file\n",
        "  pic=cv.imread(file,0)\n",
        "  train_images.append(pic)\n",
        "  train_labels.append(17)\n",
        "#  print(\"one: \"+(str)(i))\n",
        "  i+=1\n",
        "#print(len(List))\n",
        "#print(len(train_images))\n",
        "print(i)\n",
        "\n",
        "\n",
        "\n",
        "List = os.listdir(\"./alphabet/mo\")\n",
        "i=1\n",
        "#print(len(List))\n",
        "for file in List:\n",
        "  file=\"./alphabet/mo/\"+file\n",
        "  pic=cv.imread(file,0)\n",
        "  train_images.append(pic)\n",
        "  train_labels.append(18)\n",
        "#  print(\"one: \"+(str)(i))\n",
        "  i+=1\n",
        "#print(len(List))\n",
        "#print(len(train_images))\n",
        "print(i)\n",
        "\n",
        "\n",
        "\n",
        "List = os.listdir(\"./alphabet/vo\")\n",
        "i=1\n",
        "#print(len(List))\n",
        "for file in List:\n",
        "  file=\"./alphabet/vo/\"+file\n",
        "  pic=cv.imread(file,0)\n",
        "  train_images.append(pic)\n",
        "  train_labels.append(19)\n",
        "#  print(\"one: \"+(str)(i))\n",
        "  i+=1\n",
        "#print(len(List))\n",
        "#print(len(train_images))\n",
        "print(i)"
      ],
      "execution_count": null,
      "outputs": [
        {
          "output_type": "stream",
          "text": [
            "4957\n",
            "6454\n",
            "6559\n",
            "5977\n",
            "4542\n",
            "3382\n",
            "3757\n",
            "4129\n",
            "3895\n",
            "4180\n",
            "1973\n",
            "1959\n",
            "13230\n",
            "1953\n",
            "1973\n",
            "1967\n",
            "12197\n",
            "1956\n",
            "1962\n",
            "1966\n"
          ],
          "name": "stdout"
        }
      ]
    },
    {
      "cell_type": "code",
      "metadata": {
        "id": "4QOl8SEUK3zb",
        "outputId": "15f5b3a1-b2d4-4b27-f085-f04f41d38a63",
        "colab": {
          "base_uri": "https://localhost:8080/",
          "height": 34
        }
      },
      "source": [
        "import numpy as np\n",
        "print(len(train_images))\n",
        "train_images=np.array(train_images)\n",
        "train_labels=np.array(train_labels)\n",
        "train_images = train_images / 255.0"
      ],
      "execution_count": null,
      "outputs": [
        {
          "output_type": "stream",
          "text": [
            "88948\n"
          ],
          "name": "stdout"
        }
      ]
    },
    {
      "cell_type": "code",
      "metadata": {
        "id": "iYkX1NbSK359",
        "outputId": "5c022d20-27ba-4c2a-f5e8-05220627491e",
        "colab": {
          "base_uri": "https://localhost:8080/",
          "height": 51
        }
      },
      "source": [
        "print(train_images.shape)\n",
        "print(train_labels.shape)"
      ],
      "execution_count": null,
      "outputs": [
        {
          "output_type": "stream",
          "text": [
            "(88948, 32, 32)\n",
            "(88948,)\n"
          ],
          "name": "stdout"
        }
      ]
    },
    {
      "cell_type": "code",
      "metadata": {
        "id": "jQOOhvIVK4Ag"
      },
      "source": [
        "from sklearn.model_selection import train_test_split\n",
        "x_train, x_test, y_train, y_test = train_test_split(train_images, train_labels, test_size=0.15, random_state=42)\n",
        "number_of_train = x_train.shape[0]\n",
        "number_of_test = x_test.shape[0]"
      ],
      "execution_count": null,
      "outputs": []
    },
    {
      "cell_type": "code",
      "metadata": {
        "id": "lG18it3vK4Hd",
        "outputId": "651e621f-8b8a-4fb5-f4c4-ef39e5f8c179",
        "colab": {
          "base_uri": "https://localhost:8080/",
          "height": 51
        }
      },
      "source": [
        "print(number_of_train)\n",
        "print(number_of_test)"
      ],
      "execution_count": null,
      "outputs": [
        {
          "output_type": "stream",
          "text": [
            "75605\n",
            "13343\n"
          ],
          "name": "stdout"
        }
      ]
    },
    {
      "cell_type": "code",
      "metadata": {
        "id": "dUUJIHP7K4O1",
        "outputId": "34629c64-c1d3-4fce-b638-4f433fa206ea",
        "colab": {
          "base_uri": "https://localhost:8080/",
          "height": 51
        }
      },
      "source": [
        "x_train_flatten = x_train.reshape(number_of_train,x_train.shape[1]*x_train.shape[2])\n",
        "x_test_flatten = x_test .reshape(number_of_test,x_test.shape[1]*x_test.shape[2])\n",
        "print(\"X train flatten\",x_train_flatten.shape)\n",
        "print(\"X test flatten\",x_test_flatten.shape)"
      ],
      "execution_count": null,
      "outputs": [
        {
          "output_type": "stream",
          "text": [
            "X train flatten (75605, 1024)\n",
            "X test flatten (13343, 1024)\n"
          ],
          "name": "stdout"
        }
      ]
    },
    {
      "cell_type": "code",
      "metadata": {
        "id": "1tiqpt4iK4U0"
      },
      "source": [
        "from sklearn.svm import SVC\n",
        "clf=SVC(gamma=0.001,C=100)"
      ],
      "execution_count": null,
      "outputs": []
    },
    {
      "cell_type": "code",
      "metadata": {
        "id": "LvEFO1enK4c4",
        "outputId": "b329ee19-e617-4241-bfee-2ae9deaf9dec",
        "colab": {
          "base_uri": "https://localhost:8080/",
          "height": 85
        }
      },
      "source": [
        "clf.fit(x_train_flatten, y_train)"
      ],
      "execution_count": null,
      "outputs": [
        {
          "output_type": "execute_result",
          "data": {
            "text/plain": [
              "SVC(C=100, break_ties=False, cache_size=200, class_weight=None, coef0=0.0,\n",
              "    decision_function_shape='ovr', degree=3, gamma=0.001, kernel='rbf',\n",
              "    max_iter=-1, probability=False, random_state=None, shrinking=True,\n",
              "    tol=0.001, verbose=False)"
            ]
          },
          "metadata": {
            "tags": []
          },
          "execution_count": 12
        }
      ]
    },
    {
      "cell_type": "code",
      "metadata": {
        "id": "NsZMsHomLSRA"
      },
      "source": [
        "predictions = clf.predict(x_test_flatten)"
      ],
      "execution_count": null,
      "outputs": []
    },
    {
      "cell_type": "code",
      "metadata": {
        "id": "IlbVOblSLSWs",
        "outputId": "a96bb562-4740-4621-a056-ee0befe5ce96",
        "colab": {
          "base_uri": "https://localhost:8080/",
          "height": 34
        }
      },
      "source": [
        "score = clf.score(x_test_flatten, y_test)\n",
        "print(score)"
      ],
      "execution_count": null,
      "outputs": [
        {
          "output_type": "stream",
          "text": [
            "0.9197331934347598\n"
          ],
          "name": "stdout"
        }
      ]
    },
    {
      "cell_type": "code",
      "metadata": {
        "id": "V5ZBcPMqLSeS"
      },
      "source": [
        "import matplotlib.pyplot as plt\n",
        "import seaborn as sns\n",
        "from sklearn import metrics"
      ],
      "execution_count": null,
      "outputs": []
    },
    {
      "cell_type": "code",
      "metadata": {
        "id": "cYxSkPnELSkB",
        "outputId": "5430312a-0b94-400c-afa4-d14826d0f1e6",
        "colab": {
          "base_uri": "https://localhost:8080/",
          "height": 697
        }
      },
      "source": [
        "cm = metrics.confusion_matrix(y_test, predictions)\n",
        "print(cm)"
      ],
      "execution_count": null,
      "outputs": [
        {
          "output_type": "stream",
          "text": [
            "[[ 678   10    6    6    1    1    3    4    0    0    0    0    2    0\n",
            "     0    0    2    0    0    0]\n",
            " [   7  937    6    0    1    0    0    0    0    6    0    0    0    0\n",
            "     0    0    1    0    0    0]\n",
            " [   2    1  989    0    1    0    0    1    1    8    0    0    2    0\n",
            "     0    0    1    0    0    0]\n",
            " [  17   12    1  855    0    5    0    1    0    0    0    0    2    0\n",
            "     0    0    2    0    0    0]\n",
            " [   8    3    2    2  614    6    2    4    2    1    0    0    2    0\n",
            "     0    0    0    0    0    0]\n",
            " [   3    2    2    9    4  491    0    2    0    0    0    0    1    0\n",
            "     0    0    1    0    0    0]\n",
            " [   2    1   12    1    0    2  555    2    7    1    0    0    0    0\n",
            "     0    0    1    0    0    0]\n",
            " [   5    4    1    0    3    1    1  630    0    0    0    0    1    0\n",
            "     0    0    0    0    0    0]\n",
            " [   0    0    1    0    4    0    6    1  542    3    0    0    0    0\n",
            "     0    0    0    0    0    0]\n",
            " [   6   14    7    0    2    4    1    4    4  587    0    0    0    0\n",
            "     0    0    0    0    0    0]\n",
            " [   0    0    0    0    0    0    0    0    0    0  201    7    9    6\n",
            "     3   11    2    6    5   13]\n",
            " [   0    0    0    0    0    0    0    0    0    0    4  236   11   25\n",
            "     3    6    0    1   10    3]\n",
            " [   0    1    1    1    0    0    0    1    0    0   17   18 1884   13\n",
            "     1    9    1   13    9    3]\n",
            " [   0    0    0    0    0    0    0    0    0    0    2   25   10  198\n",
            "     5    6    4    6   17    7]\n",
            " [   0    0    0    0    0    0    0    0    0    0    1    3    2    1\n",
            "   224    2   48    1    3    9]\n",
            " [   0    0    0    0    0    0    0    0    0    0   17    4   12   11\n",
            "     7  221    2    9    6   12]\n",
            " [   0    0    0    0    0    0    0    0    0    0    2    2    1    4\n",
            "    76    2 1754    0    1    5]\n",
            " [   0    0    0    0    0    0    0    0    0    0    7    7    6    9\n",
            "     3    5    2  254   26    4]\n",
            " [   0    0    0    0    0    0    0    0    0    0   12   18   13   28\n",
            "     6   10    9   17  179    5]\n",
            " [   0    0    0    0    0    0    0    0    0    0   13    7    5   15\n",
            "     8   18    3    1    5  243]]\n"
          ],
          "name": "stdout"
        }
      ]
    },
    {
      "cell_type": "code",
      "metadata": {
        "id": "sZgFkwoKLSt4",
        "outputId": "c6d0a48b-2dea-46d0-d0cf-617c07568aa3",
        "colab": {
          "base_uri": "https://localhost:8080/",
          "height": 1000
        }
      },
      "source": [
        "import seaborn as sn\n",
        "import pandas as pd\n",
        "import matplotlib.pyplot as plt\n",
        "df_cm = pd.DataFrame(cm, index=[\"0\",\"1\",\"2\",\"3\",\"4\",\"5\",\"6\",\"7\",\"8\",\"9\",\"ko\", \"kho\", \"go\", \"gho\" , \"cho\", \"jo\" , \"dho\", \"lo\", \"mo\", \"vo\"], columns=[\"0\",\"1\",\"2\",\"3\",\"4\",\"5\",\"6\",\"7\",\"8\",\"9\",\"ko\", \"kho\", \"go\", \"gho\" , \"cho\", \"jo\" , \"dho\", \"lo\", \"mo\", \"vo\"])\n",
        "plt.figure(figsize=(19,19))\n",
        "sns.heatmap(df_cm, annot=True, fmt=\".3f\", linewidths=.5, square = True, cmap = 'Blues_r');\n",
        "plt.ylabel('Actual label');\n",
        "plt.xlabel('Predicted label');\n",
        "all_sample_title = 'Accuracy Score: {0}'.format(score)\n",
        "plt.title(all_sample_title, size = 15);\n",
        "                     "
      ],
      "execution_count": null,
      "outputs": [
        {
          "output_type": "display_data",
          "data": {
            "image/png": "[encoded data removed]",
            "text/plain": [
              "<Figure size 1368x1368 with 2 Axes>"
            ]
          },
          "metadata": {
            "tags": []
          }
        }
      ]
    },
    {
      "cell_type": "code",
      "metadata": {
        "id": "lr9MRa290d4a"
      },
      "source": [
        ""
      ],
      "execution_count": null,
      "outputs": []
    }
  ]
}